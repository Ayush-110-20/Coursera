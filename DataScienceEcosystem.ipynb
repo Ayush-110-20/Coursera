{
  "metadata": {
    "kernelspec": {
      "name": "python",
      "display_name": "Python (Pyodide)",
      "language": "python"
    },
    "language_info": {
      "codemirror_mode": {
        "name": "python",
        "version": 3
      },
      "file_extension": ".py",
      "mimetype": "text/x-python",
      "name": "python",
      "nbconvert_exporter": "python",
      "pygments_lexer": "ipython3",
      "version": "3.8"
    }
  },
  "nbformat_minor": 4,
  "nbformat": 4,
  "cells": [
    {
      "cell_type": "markdown",
      "source": "# Data Science Tools and Examples",
      "metadata": {}
    },
    {
      "cell_type": "markdown",
      "source": "#This notebook is designed to demonstrate basic concepts and tools in data science, including programming languages, libraries, and arithmetic operations.",
      "metadata": {}
    },
    {
      "cell_type": "markdown",
      "source": "## Data Science Languages\n- Python\n- R\n- SQL\n- Julia\n- Scala",
      "metadata": {}
    },
    {
      "cell_type": "markdown",
      "source": "## Data Science Libraries\n- NumPy\n- Pandas\n- Matplotlib\n- Scikit-learn\n- TensorFlow\n- Keras",
      "metadata": {}
    },
    {
      "cell_type": "markdown",
      "source": "## Data Science Tools\n\n| Tool             | Description                          |\n|------------------|--------------------------------------|\n| Jupyter Notebook | Environment for interactive coding   |\n| RStudio          | IDE for R                            |\n| TensorFlow       | Machine learning library             |\n| Apache Spark     | Cluster-computing framework          |\n| Tableau          | Data visualization tool              |",
      "metadata": {}
    },
    {
      "cell_type": "markdown",
      "source": "## Arithmetic Expression Examples\nHere are some examples of basic arithmetic operations:\n",
      "metadata": {}
    },
    {
      "cell_type": "code",
      "source": "# Multiplying and adding numbers\nresult = (5 * 7) + 9\nresult",
      "metadata": {
        "trusted": true
      },
      "outputs": [
        {
          "execution_count": 10,
          "output_type": "execute_result",
          "data": {
            "text/plain": "44"
          },
          "metadata": {}
        }
      ],
      "execution_count": 10
    },
    {
      "cell_type": "code",
      "source": "# Convert minutes to hours\nminutes = 240\nhours = minutes / 60\nhours",
      "metadata": {
        "trusted": true
      },
      "outputs": [
        {
          "execution_count": 11,
          "output_type": "execute_result",
          "data": {
            "text/plain": "4.0"
          },
          "metadata": {}
        }
      ],
      "execution_count": 11
    },
    {
      "cell_type": "markdown",
      "source": "## Objectives\n- Learn about different programming languages used in data science\n- Explore commonly used data science libraries\n- Understand tools available for data science\n- Perform basic arithmetic operations in Python",
      "metadata": {}
    },
    {
      "cell_type": "markdown",
      "source": "**Author**: Ayush Arya",
      "metadata": {}
    },
    {
      "cell_type": "code",
      "source": "",
      "metadata": {
        "trusted": true
      },
      "outputs": [],
      "execution_count": null
    }
  ]
}